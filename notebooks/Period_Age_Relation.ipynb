{
 "cells": [
  {
   "cell_type": "markdown",
   "metadata": {},
   "source": [
    "# Calculating the Period-Age Relation for Cepheids"
   ]
  },
  {
   "cell_type": "code",
   "execution_count": 3,
   "metadata": {},
   "outputs": [],
   "source": [
    "import sys\n",
    "import numpy as np\n",
    "\n",
    "from astroquery.simbad import Simbad\n",
    "\n",
    "from astropy.io import fits\n",
    "from astropy.wcs import WCS\n",
    "from astropy.stats import sigma_clipped_stats\n",
    "from astropy.visualization import SqrtStretch\n",
    "from astropy.visualization.mpl_normalize import ImageNormalize\n",
    "from astropy.timeseries import BoxLeastSquares, LombScargle\n",
    "from astropy.coordinates import SkyCoord, Angle\n",
    "from astropy.table import Table, Column\n",
    "import astropy.units as u\n",
    "\n",
    "from scipy.ndimage import shift\n",
    "from scipy.stats import chisquare\n",
    "from scipy.signal import medfilt, find_peaks\n",
    "from scipy.odr import Model, RealData, ODR\n",
    "\n",
    "from photutils import DAOStarFinder, CircularAperture, aperture_photometry\n",
    "from ccdproc import CCDData, Combiner, subtract_overscan, trim_image\n",
    "from astroquery.mast import Catalogs\n",
    "from reproject import reproject_interp\n",
    "\n",
    "from glob import glob\n",
    "\n",
    "import matplotlib\n",
    "\n",
    "%matplotlib inline\n",
    "#%matplotlib notebook\n",
    "\n",
    "import matplotlib.pyplot as plt\n",
    "from matplotlib.colors import LogNorm\n",
    "from matplotlib.ticker import NullLocator"
   ]
  },
  {
   "cell_type": "markdown",
   "metadata": {},
   "source": [
    "## Putting all my data together\n",
    "\n",
    "Using the infor from David and my own calculations.\n",
    "\n",
    "\\* I want to vet my Cepheids based on other datasets, maybe that will get rid of the 51 day one."
   ]
  },
  {
   "cell_type": "code",
   "execution_count": 16,
   "metadata": {},
   "outputs": [],
   "source": [
    "pd_age_table = Table(names=[\"cluster\",\"periods\",\"age\",\"e_age\"],\n",
    "                     data=[[\"NGC 1818\",\"NGC 1850\",\"NGC 2031\",\"NGC 2136\",\"NGC 2157\",\"NGC 1866\"],\n",
    "                           [[39.999],\n",
    "                            [18.6639, 8.55965, 7.92288],\n",
    "                            [2.97151, 3.19436, 3.04226, 3.27879, 3.03111, 2.96081, 2.82426, 2.86926, 2.79717],\n",
    "                            [4.41422, 9.1301, 4.46552],\n",
    "                            [7.71987, 5.1472],\n",
    "                            [2.039, 3.144, 51.519, 2.957, 3.101, 3.037, 3.065, 3.044, 3.291, 3.065, 3.182, \n",
    "                             3.058, 3.228, 2.728, 3.452, 0.666, 3.316, 3.525,3.086, 2.944, 0.626]],\n",
    "                           [30,80,230,125,100,141]*u.Myr,\n",
    "                           [15,17,30,50,30,20]*u.Myr])"
   ]
  },
  {
   "cell_type": "markdown",
   "metadata": {},
   "source": [
    "Calculating the mean periods and standard error on the mean do get a single period for each age."
   ]
  },
  {
   "cell_type": "code",
   "execution_count": 17,
   "metadata": {},
   "outputs": [],
   "source": [
    "mean_pds = [round(np.mean(x),3) for x in pd_age_table['periods']]\n",
    "\n",
    "errs = [0]*len(pd_age_table['periods'])\n",
    "for i,pds in enumerate(pd_age_table['periods']):\n",
    "    variance = sum([(x - mean_pds[i])**2 for x in pds])/(len(pds))\n",
    "    errs[i] = round(np.sqrt(variance/len(pds)), 2)"
   ]
  },
  {
   "cell_type": "code",
   "execution_count": 18,
   "metadata": {},
   "outputs": [],
   "source": [
    "pd_age_table.add_column(Column(name=\"ave_pd\",data=mean_pds*u.day))\n",
    "pd_age_table.add_column(Column(name=\"e_ave_pd\",data=errs*u.day))"
   ]
  },
  {
   "cell_type": "markdown",
   "metadata": {},
   "source": [
    "Adding error to the one with a single data point because otherwise it breaks the fitting.\n",
    "\n",
    "\\* Swap out this error with the real uncertaintly when I get the source for that measurement.\n",
    "\n",
    "\\* Note, though that is doesn't really matter, it doesn't affect the output numbers at the level of precision we are sensitive to."
   ]
  },
  {
   "cell_type": "code",
   "execution_count": 49,
   "metadata": {},
   "outputs": [],
   "source": [
    "pd_age_table[\"e_ave_pd\"][0] = 0.001"
   ]
  },
  {
   "cell_type": "code",
   "execution_count": 50,
   "metadata": {},
   "outputs": [
    {
     "data": {
      "text/html": [
       "<i>Table length=6</i>\n",
       "<table id=\"table124977359840\" class=\"table-striped table-bordered table-condensed\">\n",
       "<thead><tr><th>cluster</th><th>periods</th><th>age</th><th>e_age</th><th>ave_pd</th><th>e_ave_pd</th></tr></thead>\n",
       "<thead><tr><th></th><th></th><th>Myr</th><th>Myr</th><th>d</th><th>d</th></tr></thead>\n",
       "<thead><tr><th>str8</th><th>object</th><th>float64</th><th>float64</th><th>float64</th><th>float64</th></tr></thead>\n",
       "<tr><td>NGC 1818</td><td>[39.999]</td><td>30.0</td><td>15.0</td><td>39.999</td><td>0.001</td></tr>\n",
       "<tr><td>NGC 1850</td><td>[18.6639, 8.55965, 7.92288]</td><td>80.0</td><td>17.0</td><td>11.715</td><td>2.84</td></tr>\n",
       "<tr><td>NGC 2031</td><td>[2.97151, 3.19436, 3.04226, 3.27879, 3.03111, 2.96081, 2.82426, 2.86926, 2.79717]</td><td>230.0</td><td>30.0</td><td>2.997</td><td>0.05</td></tr>\n",
       "<tr><td>NGC 2136</td><td>[4.41422, 9.1301, 4.46552]</td><td>125.0</td><td>50.0</td><td>6.003</td><td>1.28</td></tr>\n",
       "<tr><td>NGC 2157</td><td>[7.71987, 5.1472]</td><td>100.0</td><td>30.0</td><td>6.434</td><td>0.91</td></tr>\n",
       "<tr><td>NGC 1866</td><td>[2.039, 3.144, 51.519, 2.957, 3.101, 3.037, 3.065, 3.044, 3.291, 3.065, 3.182, 3.058, 3.228, 2.728, 3.452, 0.666, 3.316, 3.525, 3.086, 2.944, 0.626]</td><td>141.0</td><td>20.0</td><td>5.146</td><td>2.27</td></tr>\n",
       "</table>"
      ],
      "text/plain": [
       "<Table length=6>\n",
       "cluster  ... e_ave_pd\n",
       "         ...    d    \n",
       "  str8   ... float64 \n",
       "-------- ... --------\n",
       "NGC 1818 ...    0.001\n",
       "NGC 1850 ...     2.84\n",
       "NGC 2031 ...     0.05\n",
       "NGC 2136 ...     1.28\n",
       "NGC 2157 ...     0.91\n",
       "NGC 1866 ...     2.27"
      ]
     },
     "execution_count": 50,
     "metadata": {},
     "output_type": "execute_result"
    }
   ],
   "source": [
    "pd_age_table"
   ]
  },
  {
   "cell_type": "markdown",
   "metadata": {},
   "source": [
    "#### Making a log-log plot"
   ]
  },
  {
   "cell_type": "code",
   "execution_count": 51,
   "metadata": {},
   "outputs": [
    {
     "data": {
      "image/png": "[encoded data removed]",
      "text/plain": [
       "<Figure size 504x360 with 1 Axes>"
      ]
     },
     "metadata": {},
     "output_type": "display_data"
    }
   ],
   "source": [
    "fig = plt.figure(figsize=(7,5))\n",
    "ax1 = fig.add_subplot(111)\n",
    "ax1.tick_params(axis='both', which='major', labelsize=14)\n",
    "\n",
    "ax1.errorbar(pd_age_table[\"ave_pd\"], pd_age_table[\"age\"],\n",
    "             xerr=pd_age_table[\"e_ave_pd\"], yerr=pd_age_table[\"e_age\"],\n",
    "             capsize=2, linestyle='None',marker='o',color='black', markersize=4)  \n",
    "\n",
    "ax1.set_xlabel(\"Period (d)\", size=14)\n",
    "ax1.set_ylabel(\"Age (Myr)\", size=14)\n",
    "\n",
    "ax1.set_xscale(\"log\")\n",
    "ax1.set_yscale(\"log\")\n",
    "\n",
    "fig.tight_layout()\n",
    "        \n",
    "plt.show()  \n",
    "        "
   ]
  },
  {
   "cell_type": "markdown",
   "metadata": {},
   "source": [
    "## Fitting the points\n",
    "\n",
    "We expect the PA relation to be of the form: $\\log t =  \\alpha + \\beta \\log P$\n",
    "Where $t$ is the age in years and $P$ is the period in days.\n",
    "\n",
    "I will use Orthoginal Distance Regression using the scipy ODR package so that I can fit the function while taking into about the uncertainties in both priod and age.\n",
    "\n",
    "I draw my initial guess from Bono et al. 20015 ([2005ApJ...621..966B](https://ui.adsabs.harvard.edu/abs/2005ApJ...621..966B/abstract))."
   ]
  },
  {
   "cell_type": "code",
   "execution_count": 52,
   "metadata": {},
   "outputs": [
    {
     "name": "stdout",
     "output_type": "stream",
     "text": [
      "Beta: [ 8.73880691 -0.81307792]\n",
      "Beta Std Error: [0.04322264 0.06028076]\n",
      "Beta Covariance: [[ 0.01401837 -0.01811418]\n",
      " [-0.01811418  0.0272667 ]]\n",
      "Residual Variance: 0.1332677007027353\n",
      "Inverse Condition #: 0.022258504311192893\n",
      "Reason(s) for Halting:\n",
      "  Sum of squares convergence\n"
     ]
    }
   ],
   "source": [
    "# The function we are fitting\n",
    "def age_func(params, pd):\n",
    "    a, b = params\n",
    "    return 10**(a + b*np.log10(pd))*10**-6 # Want our result in Myr\n",
    "\n",
    "# Create a model for fitting.\n",
    "age_model = Model(age_func)\n",
    "\n",
    "# Create a RealData object using our initiated data from above.\n",
    "data = RealData(pd_age_table[\"ave_pd\"], pd_age_table[\"age\"], \n",
    "                sx=pd_age_table[\"e_ave_pd\"], sy=pd_age_table[\"e_age\"])\n",
    "\n",
    "# Set up ODR with the model and data.\n",
    "odr = ODR(data, age_model, beta0=[8.2, -0.7])\n",
    "\n",
    "# Run the regression.\n",
    "out = odr.run()\n",
    "\n",
    "# Use the in-built pprint method to give us results.\n",
    "out.pprint()"
   ]
  },
  {
   "cell_type": "markdown",
   "metadata": {},
   "source": [
    "#### Best fit P-A relation:\n",
    "\n",
    "$\\log t =  (8.74 \\pm 0.04) - (0.81 \\pm 0.06) \\log P$\n",
    "\n",
    "#### Plotting the results"
   ]
  },
  {
   "cell_type": "code",
   "execution_count": 76,
   "metadata": {},
   "outputs": [
    {
     "data": {
      "image/png": "[encoded data removed]",
      "text/plain": [
       "<Figure size 576x504 with 1 Axes>"
      ]
     },
     "metadata": {},
     "output_type": "display_data"
    }
   ],
   "source": [
    "fig = plt.figure(figsize=(8,7))\n",
    "ax1 = fig.add_subplot(111)\n",
    "ax1.tick_params(axis='both', which='major', labelsize=14)\n",
    "\n",
    "colors = ['#b90043','#e57001', '#eca500', '#007215', '#0051c6', '#5f019c']\n",
    "markers = ['o','s','X','*','v','p']\n",
    "i = 0\n",
    "for cluster in pd_age_table:\n",
    "    ax1.errorbar(cluster[\"ave_pd\"], cluster[\"age\"], xerr=cluster[\"e_ave_pd\"], yerr=cluster[\"e_age\"],\n",
    "                 capsize=2, linestyle='None', markersize=10, label=cluster[\"cluster\"],\n",
    "                 color=colors[i], marker=markers[i],) \n",
    "    i+=1\n",
    "    \n",
    "x_fit = np.linspace(pd_age_table[\"ave_pd\"].min()-0.5, pd_age_table[\"ave_pd\"].max()+10, 1000)\n",
    "y_fit = age_func(out.beta, x_fit)\n",
    "ax1.plot(x_fit, y_fit, color='black', label=\"Best fit P-A\")\n",
    "\n",
    "\n",
    "y_err = np.sqrt(out.sd_beta[0]**2+(out.sd_beta[1]*np.log10(x_fit))**2)\n",
    "y_min = 10**(np.log10(y_fit)+y_err)\n",
    "y_max = 10**(np.log10(y_fit)-y_err)\n",
    "plt.fill_between(x_fit, y_min, y_max, color='gray', alpha=0.2)\n",
    "\n",
    "ax1.set_xlabel(\"Period (d)\", size=14)\n",
    "ax1.set_ylabel(\"Age (Myr)\", size=14)\n",
    "\n",
    "ax1.set_xscale(\"log\")\n",
    "ax1.set_yscale(\"log\")\n",
    "\n",
    "ax1.legend(fontsize=12)\n",
    "\n",
    "fig.tight_layout()\n",
    "\n",
    "plt.savefig(\"../doc/plots/period_age_relation.pdf\")\n",
    "        \n",
    "plt.show()  \n",
    "        "
   ]
  },
  {
   "cell_type": "code",
   "execution_count": null,
   "metadata": {},
   "outputs": [],
   "source": []
  },
  {
   "cell_type": "code",
   "execution_count": null,
   "metadata": {},
   "outputs": [],
   "source": []
  },
  {
   "cell_type": "code",
   "execution_count": null,
   "metadata": {},
   "outputs": [],
   "source": []
  },
  {
   "cell_type": "code",
   "execution_count": null,
   "metadata": {},
   "outputs": [],
   "source": []
  }
 ],
 "metadata": {
  "kernelspec": {
   "display_name": "Python 3",
   "language": "python",
   "name": "python3"
  },
  "language_info": {
   "codemirror_mode": {
    "name": "ipython",
    "version": 3
   },
   "file_extension": ".py",
   "mimetype": "text/x-python",
   "name": "python",
   "nbconvert_exporter": "python",
   "pygments_lexer": "ipython3",
   "version": "3.6.8"
  }
 },
 "nbformat": 4,
 "nbformat_minor": 2
}
